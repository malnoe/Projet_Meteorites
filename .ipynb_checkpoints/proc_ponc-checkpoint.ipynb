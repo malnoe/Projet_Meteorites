version https://git-lfs.github.com/spec/v1
oid sha256:a8f3aed2c97e91a9d0487805ef735fbe4b8b1526d2c4b6637af4c05695707d87
size 1110318
