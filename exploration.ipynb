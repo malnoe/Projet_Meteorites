version https://git-lfs.github.com/spec/v1
oid sha256:ee099e00d585690e959b4b5dec4032484341ebfd3bf7fd547c3aff457816d5aa
size 510546317
